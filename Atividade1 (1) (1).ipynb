{
 "cells": [
  {
   "cell_type": "markdown",
   "id": "6c8749b0-d58e-44f0-b72d-496abc7d2427",
   "metadata": {},
   "source": [
    "# Questão 1"
   ]
  },
  {
   "cell_type": "markdown",
   "id": "b287c359-7d33-4fa3-a3b7-ca9f906887ab",
   "metadata": {},
   "source": [
    "## 1. a) - Avalie a correlação entre as variáveis e destaque os pares que apresentam maior correlação.\n",
    "\n"
   ]
  },
  {
   "cell_type": "code",
   "execution_count": 1,
   "id": "0de0857c-26c7-42cd-9584-7774577e19ff",
   "metadata": {},
   "outputs": [],
   "source": [
    "import pandas as pd \n",
    "import seaborn as sns\n",
    "import numpy as np\n",
    "import matplotlib.pyplot as plt\n",
    "import statsmodels.formula.api as smf\n",
    "from sklearn.model_selection import train_test_split\n",
    "from sklearn.metrics import r2_score\n",
    "import warnings\n",
    "warnings.filterwarnings('ignore')\n"
   ]
  },
  {
   "cell_type": "code",
   "execution_count": 2,
   "id": "d575c31e-fe21-4f60-a9c7-ab6924a5ca6e",
   "metadata": {},
   "outputs": [
    {
     "name": "stdout",
     "output_type": "stream",
     "text": [
      "(50, 5)\n"
     ]
    },
    {
     "data": {
      "text/html": [
       "<div>\n",
       "<style scoped>\n",
       "    .dataframe tbody tr th:only-of-type {\n",
       "        vertical-align: middle;\n",
       "    }\n",
       "\n",
       "    .dataframe tbody tr th {\n",
       "        vertical-align: top;\n",
       "    }\n",
       "\n",
       "    .dataframe thead th {\n",
       "        text-align: right;\n",
       "    }\n",
       "</style>\n",
       "<table border=\"1\" class=\"dataframe\">\n",
       "  <thead>\n",
       "    <tr style=\"text-align: right;\">\n",
       "      <th></th>\n",
       "      <th>Óleo</th>\n",
       "      <th>Densidade</th>\n",
       "      <th>Crocância</th>\n",
       "      <th>Fratura</th>\n",
       "      <th>Dureza</th>\n",
       "    </tr>\n",
       "  </thead>\n",
       "  <tbody>\n",
       "    <tr>\n",
       "      <th>B110</th>\n",
       "      <td>16.5</td>\n",
       "      <td>2955</td>\n",
       "      <td>10</td>\n",
       "      <td>23</td>\n",
       "      <td>97</td>\n",
       "    </tr>\n",
       "    <tr>\n",
       "      <th>B136</th>\n",
       "      <td>17.7</td>\n",
       "      <td>2660</td>\n",
       "      <td>14</td>\n",
       "      <td>9</td>\n",
       "      <td>139</td>\n",
       "    </tr>\n",
       "    <tr>\n",
       "      <th>B171</th>\n",
       "      <td>16.2</td>\n",
       "      <td>2870</td>\n",
       "      <td>12</td>\n",
       "      <td>17</td>\n",
       "      <td>143</td>\n",
       "    </tr>\n",
       "    <tr>\n",
       "      <th>B192</th>\n",
       "      <td>16.7</td>\n",
       "      <td>2920</td>\n",
       "      <td>10</td>\n",
       "      <td>31</td>\n",
       "      <td>95</td>\n",
       "    </tr>\n",
       "    <tr>\n",
       "      <th>B225</th>\n",
       "      <td>16.3</td>\n",
       "      <td>2975</td>\n",
       "      <td>11</td>\n",
       "      <td>26</td>\n",
       "      <td>143</td>\n",
       "    </tr>\n",
       "  </tbody>\n",
       "</table>\n",
       "</div>"
      ],
      "text/plain": [
       "      Óleo  Densidade  Crocância  Fratura  Dureza\n",
       "B110  16.5       2955         10       23      97\n",
       "B136  17.7       2660         14        9     139\n",
       "B171  16.2       2870         12       17     143\n",
       "B192  16.7       2920         10       31      95\n",
       "B225  16.3       2975         11       26     143"
      ]
     },
     "execution_count": 2,
     "metadata": {},
     "output_type": "execute_result"
    }
   ],
   "source": [
    "\n",
    "ta=pd.read_csv('textura-alimento.csv',index_col=0)\n",
    "print(ta.shape)\n",
    "ta.head()"
   ]
  },
  {
   "cell_type": "code",
   "execution_count": 3,
   "id": "4533145b-c4e1-4cae-bbf9-97db7f97c57f",
   "metadata": {},
   "outputs": [
    {
     "name": "stdout",
     "output_type": "stream",
     "text": [
      "<class 'pandas.core.frame.DataFrame'>\n",
      "Index: 50 entries, B110 to B998\n",
      "Data columns (total 5 columns):\n",
      " #   Column     Non-Null Count  Dtype  \n",
      "---  ------     --------------  -----  \n",
      " 0   Óleo       50 non-null     float64\n",
      " 1   Densidade  50 non-null     int64  \n",
      " 2   Crocância  50 non-null     int64  \n",
      " 3   Fratura    50 non-null     int64  \n",
      " 4   Dureza     50 non-null     int64  \n",
      "dtypes: float64(1), int64(4)\n",
      "memory usage: 2.3+ KB\n"
     ]
    }
   ],
   "source": [
    "ta.info()"
   ]
  },
  {
   "cell_type": "code",
   "execution_count": 4,
   "id": "2ab2e534-db24-40e0-9095-deea061eb88f",
   "metadata": {},
   "outputs": [
    {
     "data": {
      "text/plain": [
       "0"
      ]
     },
     "execution_count": 4,
     "metadata": {},
     "output_type": "execute_result"
    }
   ],
   "source": [
    "ta.duplicated().sum()"
   ]
  },
  {
   "cell_type": "code",
   "execution_count": 5,
   "id": "177f8765-2633-4ecb-b9f9-e6fcffa19d41",
   "metadata": {},
   "outputs": [
    {
     "data": {
      "text/html": [
       "<div>\n",
       "<style scoped>\n",
       "    .dataframe tbody tr th:only-of-type {\n",
       "        vertical-align: middle;\n",
       "    }\n",
       "\n",
       "    .dataframe tbody tr th {\n",
       "        vertical-align: top;\n",
       "    }\n",
       "\n",
       "    .dataframe thead th {\n",
       "        text-align: right;\n",
       "    }\n",
       "</style>\n",
       "<table border=\"1\" class=\"dataframe\">\n",
       "  <thead>\n",
       "    <tr style=\"text-align: right;\">\n",
       "      <th></th>\n",
       "      <th>Óleo</th>\n",
       "      <th>Densidade</th>\n",
       "      <th>Crocância</th>\n",
       "      <th>Fratura</th>\n",
       "      <th>Dureza</th>\n",
       "    </tr>\n",
       "  </thead>\n",
       "  <tbody>\n",
       "    <tr>\n",
       "      <th>count</th>\n",
       "      <td>50.000000</td>\n",
       "      <td>50.00000</td>\n",
       "      <td>50.000000</td>\n",
       "      <td>50.000000</td>\n",
       "      <td>50.000000</td>\n",
       "    </tr>\n",
       "    <tr>\n",
       "      <th>mean</th>\n",
       "      <td>17.202000</td>\n",
       "      <td>2857.60000</td>\n",
       "      <td>11.520000</td>\n",
       "      <td>20.860000</td>\n",
       "      <td>128.180000</td>\n",
       "    </tr>\n",
       "    <tr>\n",
       "      <th>std</th>\n",
       "      <td>1.592007</td>\n",
       "      <td>124.49998</td>\n",
       "      <td>1.775571</td>\n",
       "      <td>5.466073</td>\n",
       "      <td>31.127578</td>\n",
       "    </tr>\n",
       "    <tr>\n",
       "      <th>min</th>\n",
       "      <td>13.700000</td>\n",
       "      <td>2570.00000</td>\n",
       "      <td>7.000000</td>\n",
       "      <td>9.000000</td>\n",
       "      <td>63.000000</td>\n",
       "    </tr>\n",
       "    <tr>\n",
       "      <th>25%</th>\n",
       "      <td>16.300000</td>\n",
       "      <td>2772.50000</td>\n",
       "      <td>10.000000</td>\n",
       "      <td>17.000000</td>\n",
       "      <td>107.250000</td>\n",
       "    </tr>\n",
       "    <tr>\n",
       "      <th>50%</th>\n",
       "      <td>16.900000</td>\n",
       "      <td>2867.50000</td>\n",
       "      <td>12.000000</td>\n",
       "      <td>21.000000</td>\n",
       "      <td>126.000000</td>\n",
       "    </tr>\n",
       "    <tr>\n",
       "      <th>75%</th>\n",
       "      <td>18.100000</td>\n",
       "      <td>2945.00000</td>\n",
       "      <td>13.000000</td>\n",
       "      <td>25.000000</td>\n",
       "      <td>143.750000</td>\n",
       "    </tr>\n",
       "    <tr>\n",
       "      <th>max</th>\n",
       "      <td>21.200000</td>\n",
       "      <td>3125.00000</td>\n",
       "      <td>15.000000</td>\n",
       "      <td>33.000000</td>\n",
       "      <td>192.000000</td>\n",
       "    </tr>\n",
       "  </tbody>\n",
       "</table>\n",
       "</div>"
      ],
      "text/plain": [
       "            Óleo   Densidade  Crocância    Fratura      Dureza\n",
       "count  50.000000    50.00000  50.000000  50.000000   50.000000\n",
       "mean   17.202000  2857.60000  11.520000  20.860000  128.180000\n",
       "std     1.592007   124.49998   1.775571   5.466073   31.127578\n",
       "min    13.700000  2570.00000   7.000000   9.000000   63.000000\n",
       "25%    16.300000  2772.50000  10.000000  17.000000  107.250000\n",
       "50%    16.900000  2867.50000  12.000000  21.000000  126.000000\n",
       "75%    18.100000  2945.00000  13.000000  25.000000  143.750000\n",
       "max    21.200000  3125.00000  15.000000  33.000000  192.000000"
      ]
     },
     "execution_count": 5,
     "metadata": {},
     "output_type": "execute_result"
    }
   ],
   "source": [
    "ta.describe()"
   ]
  },
  {
   "cell_type": "markdown",
   "id": "750ae7db-a804-407d-b18b-28e5d37f346e",
   "metadata": {},
   "source": [
    "### Não existem duplicadas e valores nulos! E todas as variaveis estão no formato correto!"
   ]
  },
  {
   "cell_type": "markdown",
   "id": "41008da1-d408-46af-bf9d-be421f6c32c4",
   "metadata": {},
   "source": [
    "### Correlação Calculada com .corr() do pandas que usa a correlação de pearson, uma maneira de deixar mais legivel e interpretavel é usando um mapa de calor, usarei o do seaborn como exemplo."
   ]
  },
  {
   "cell_type": "code",
   "execution_count": 6,
   "id": "1e07a42a-0005-474b-9241-9e918c6c649c",
   "metadata": {},
   "outputs": [
    {
     "data": {
      "text/html": [
       "<div>\n",
       "<style scoped>\n",
       "    .dataframe tbody tr th:only-of-type {\n",
       "        vertical-align: middle;\n",
       "    }\n",
       "\n",
       "    .dataframe tbody tr th {\n",
       "        vertical-align: top;\n",
       "    }\n",
       "\n",
       "    .dataframe thead th {\n",
       "        text-align: right;\n",
       "    }\n",
       "</style>\n",
       "<table border=\"1\" class=\"dataframe\">\n",
       "  <thead>\n",
       "    <tr style=\"text-align: right;\">\n",
       "      <th></th>\n",
       "      <th>Óleo</th>\n",
       "      <th>Densidade</th>\n",
       "      <th>Crocância</th>\n",
       "      <th>Fratura</th>\n",
       "      <th>Dureza</th>\n",
       "    </tr>\n",
       "  </thead>\n",
       "  <tbody>\n",
       "    <tr>\n",
       "      <th>Óleo</th>\n",
       "      <td>1.000000</td>\n",
       "      <td>-0.750024</td>\n",
       "      <td>0.593086</td>\n",
       "      <td>-0.533739</td>\n",
       "      <td>-0.096045</td>\n",
       "    </tr>\n",
       "    <tr>\n",
       "      <th>Densidade</th>\n",
       "      <td>-0.750024</td>\n",
       "      <td>1.000000</td>\n",
       "      <td>-0.670946</td>\n",
       "      <td>0.572132</td>\n",
       "      <td>0.107937</td>\n",
       "    </tr>\n",
       "    <tr>\n",
       "      <th>Crocância</th>\n",
       "      <td>0.593086</td>\n",
       "      <td>-0.670946</td>\n",
       "      <td>1.000000</td>\n",
       "      <td>-0.843965</td>\n",
       "      <td>0.411093</td>\n",
       "    </tr>\n",
       "    <tr>\n",
       "      <th>Fratura</th>\n",
       "      <td>-0.533739</td>\n",
       "      <td>0.572132</td>\n",
       "      <td>-0.843965</td>\n",
       "      <td>1.000000</td>\n",
       "      <td>-0.373358</td>\n",
       "    </tr>\n",
       "    <tr>\n",
       "      <th>Dureza</th>\n",
       "      <td>-0.096045</td>\n",
       "      <td>0.107937</td>\n",
       "      <td>0.411093</td>\n",
       "      <td>-0.373358</td>\n",
       "      <td>1.000000</td>\n",
       "    </tr>\n",
       "  </tbody>\n",
       "</table>\n",
       "</div>"
      ],
      "text/plain": [
       "               Óleo  Densidade  Crocância   Fratura    Dureza\n",
       "Óleo       1.000000  -0.750024   0.593086 -0.533739 -0.096045\n",
       "Densidade -0.750024   1.000000  -0.670946  0.572132  0.107937\n",
       "Crocância  0.593086  -0.670946   1.000000 -0.843965  0.411093\n",
       "Fratura   -0.533739   0.572132  -0.843965  1.000000 -0.373358\n",
       "Dureza    -0.096045   0.107937   0.411093 -0.373358  1.000000"
      ]
     },
     "execution_count": 6,
     "metadata": {},
     "output_type": "execute_result"
    }
   ],
   "source": [
    "corr=ta.corr()\n",
    "corr"
   ]
  },
  {
   "cell_type": "code",
   "execution_count": 7,
   "id": "95739be8-1169-4815-9825-ab2870985df3",
   "metadata": {},
   "outputs": [
    {
     "data": {
      "image/png": "[encoded data removed]",
      "text/plain": [
       "<Figure size 800x400 with 2 Axes>"
      ]
     },
     "metadata": {},
     "output_type": "display_data"
    }
   ],
   "source": [
    "# Aplicamos umas \"Mask\" (mascara) para retirar valores repetidos\n",
    "\n",
    "plt.figure(figsize=(8, 4))  \n",
    "mascara=np.triu(np.ones_like(corr))\n",
    "sns.heatmap(corr,annot=True,mask=mascara)    \n",
    "plt.show()"
   ]
  },
  {
   "cell_type": "markdown",
   "id": "e1b81aa9-b5e2-42b3-af3c-0d9a2e048bdf",
   "metadata": {},
   "source": [
    "### Como pode ser visto, existe uma relação Linear forte Negativa entre:\n",
    "\n",
    "### <b>Crocância e Fratura : -0.84 \n",
    "\n",
    "### <b>Óleo e Densidade : -0.75\n",
    "### <b> Densidade e Crocância : -0.67"
   ]
  },
  {
   "cell_type": "markdown",
   "id": "7633bfd4-0ff8-497f-988f-c02f94121481",
   "metadata": {},
   "source": [
    "## Porém a correlação de Pearson apenas destaca uma correlação Linear! Caso seja do interesse seria necessario usar outras correlações e ir mais a fundo na analise dos dados.\n"
   ]
  },
  {
   "cell_type": "markdown",
   "id": "4607ab9e-9aae-45e5-a40b-7abc0cc45eeb",
   "metadata": {},
   "source": [
    "### 1.B) Sabendo que se busca construir um modelo que preveja a variável de Crocância. Separe os dados em um grupo de validação e um grupo de calibração. Construa um modelo de regressão linear, com o grupo de calibração, para as seguintes combinações de variáveis. \n",
    "\n",
    "### Indique e compare os valores dos coeficientes, erro padrão, variância explicada (R2) e a capacidade de previsão de dados no grupo de validação."
   ]
  },
  {
   "cell_type": "code",
   "execution_count": 8,
   "id": "ddb5eb1c-04fa-40ae-8add-8831221af4bb",
   "metadata": {},
   "outputs": [],
   "source": [
    "import numpy as np\n",
    "from sklearn.model_selection import train_test_split\n",
    "import statsmodels.api as sm"
   ]
  },
  {
   "cell_type": "markdown",
   "id": "8b3b2761-d9d7-4e32-aa40-babb9e56018e",
   "metadata": {},
   "source": [
    "### Divisão teste e treino (validação e calibração)"
   ]
  },
  {
   "cell_type": "code",
   "execution_count": 9,
   "id": "349d9437-89c1-41b9-a855-d739f865b0a0",
   "metadata": {},
   "outputs": [],
   "source": [
    "ta_treino, ta_teste = train_test_split(ta, test_size=0.5, random_state=42)"
   ]
  },
  {
   "cell_type": "markdown",
   "id": "ddd56f3c-837b-4d52-8e40-0d57d26712e4",
   "metadata": {},
   "source": [
    "### Depois do Split entre teste e treino, irémos realizar a modelagem matematica a partir das variaveis citadas abaixo, tendo como target a \"Crocância\"."
   ]
  },
  {
   "cell_type": "code",
   "execution_count": 10,
   "id": "5be7fa83-6a56-4d84-9b48-d47daf74532f",
   "metadata": {},
   "outputs": [],
   "source": [
    "def modelos(coluna):\n",
    "    \n",
    "    if isinstance(coluna, str):\n",
    "        coluna = [coluna]\n",
    "    \n",
    "    colunas_formula = ' + '.join(coluna)\n",
    "\n",
    "    formula=f'Crocância ~ {colunas_formula}'\n",
    "    model = smf.ols(formula,data=ta_treino).fit()\n",
    "    \n",
    "    coeficientes = model.params\n",
    "    print(\"Coeficientes:\")\n",
    "    print(coeficientes)\n",
    "    \n",
    "    # Erros padrão dos coeficientes\n",
    "    erro_padrao = model.bse\n",
    "    print(\"\\nErro padrão dos coeficientes:\")\n",
    "    print(erro_padrao)\n",
    "    \n",
    "    # Variância explicada (R^2) no conjunto de treino\n",
    "    r2_treino = model.rsquared\n",
    "    print(\"\\nR² (variância explicada) no conjunto de treino:\", r2_treino)\n",
    "    \n",
    "    # R² no conjunto de teste - capacidade de previsão\n",
    "    previsoes = model.predict(ta_teste)\n",
    "    r2 = r2_score(ta_teste['Crocância'], previsoes)\n",
    "\n",
    "    print(f'O R² no conjunto de teste é: {r2}')\n"
   ]
  },
  {
   "cell_type": "markdown",
   "id": "d49b10a1-d87b-4c2f-9246-fe34c753e9c3",
   "metadata": {},
   "source": [
    "# Modelos"
   ]
  },
  {
   "cell_type": "markdown",
   "id": "5bc0690c-1777-43de-b65f-65bb3a101ecc",
   "metadata": {},
   "source": [
    "Indique e compare os valores dos coeficientes, erro padrão, variância explicada (R2) e a capacidade de previsão de dados no grupo de validação."
   ]
  },
  {
   "cell_type": "markdown",
   "id": "e368f395-e14d-4732-b3be-1eee4dc60a1e",
   "metadata": {},
   "source": [
    "### 1) Crocância em função da Densidade"
   ]
  },
  {
   "cell_type": "code",
   "execution_count": 11,
   "id": "855ccc95-bde4-4899-89e4-986355379130",
   "metadata": {},
   "outputs": [
    {
     "name": "stdout",
     "output_type": "stream",
     "text": [
      "Coeficientes:\n",
      "Intercept    35.829094\n",
      "Densidade    -0.008653\n",
      "dtype: float64\n",
      "\n",
      "Erro padrão dos coeficientes:\n",
      "Intercept    6.024857\n",
      "Densidade    0.002125\n",
      "dtype: float64\n",
      "\n",
      "R² (variância explicada) no conjunto de treino: 0.4189350119083617\n",
      "O R² no conjunto de teste é: 0.34757070247743305\n"
     ]
    }
   ],
   "source": [
    "modelos('Densidade')"
   ]
  },
  {
   "cell_type": "markdown",
   "id": "c95eb2d7-e31a-47d3-8be5-7daf26e2f86d",
   "metadata": {},
   "source": [
    "### 2) Crocância em função do Óleo"
   ]
  },
  {
   "cell_type": "code",
   "execution_count": 12,
   "id": "8186b762-4555-41d4-ad1f-33902eab1e2e",
   "metadata": {},
   "outputs": [
    {
     "name": "stdout",
     "output_type": "stream",
     "text": [
      "Coeficientes:\n",
      "Intercept   -0.755712\n",
      "Óleo         0.699474\n",
      "dtype: float64\n",
      "\n",
      "Erro padrão dos coeficientes:\n",
      "Intercept    3.203338\n",
      "Óleo         0.184837\n",
      "dtype: float64\n",
      "\n",
      "R² (variância explicada) no conjunto de treino: 0.3837199341064287\n",
      "O R² no conjunto de teste é: 0.2659087243440609\n"
     ]
    }
   ],
   "source": [
    "modelos('Óleo')"
   ]
  },
  {
   "cell_type": "markdown",
   "id": "65f2cc78-387f-4be8-838b-a529a8509f4e",
   "metadata": {},
   "source": [
    "### 3) Crocância em função da Fratura"
   ]
  },
  {
   "cell_type": "code",
   "execution_count": 13,
   "id": "df142bd6-1add-4e51-a508-ff273d666776",
   "metadata": {},
   "outputs": [
    {
     "name": "stdout",
     "output_type": "stream",
     "text": [
      "Coeficientes:\n",
      "Intercept    17.228992\n",
      "Fratura      -0.288525\n",
      "dtype: float64\n",
      "\n",
      "Erro padrão dos coeficientes:\n",
      "Intercept    0.802111\n",
      "Fratura      0.038039\n",
      "dtype: float64\n",
      "\n",
      "R² (variância explicada) no conjunto de treino: 0.7143979732312096\n",
      "O R² no conjunto de teste é: 0.6385472097361173\n"
     ]
    }
   ],
   "source": [
    "modelos('Fratura')"
   ]
  },
  {
   "cell_type": "markdown",
   "id": "6e7cf827-57a9-4525-8bb3-e8dbfa9c28ee",
   "metadata": {},
   "source": [
    "### 4) Crocância em função do Óleo e da Densidade"
   ]
  },
  {
   "cell_type": "code",
   "execution_count": 14,
   "id": "0642134d-80d9-42b1-b889-51b009214bbe",
   "metadata": {},
   "outputs": [
    {
     "name": "stdout",
     "output_type": "stream",
     "text": [
      "Coeficientes:\n",
      "Intercept    21.224293\n",
      "Óleo          0.342426\n",
      "Densidade    -0.005584\n",
      "dtype: float64\n",
      "\n",
      "Erro padrão dos coeficientes:\n",
      "Intercept    13.007599\n",
      "Óleo          0.271219\n",
      "Densidade     0.003211\n",
      "dtype: float64\n",
      "\n",
      "R² (variância explicada) no conjunto de treino: 0.4581919963145371\n",
      "O R² no conjunto de teste é: 0.3689683277641971\n"
     ]
    }
   ],
   "source": [
    "modelos(['Óleo','Densidade'])"
   ]
  },
  {
   "cell_type": "markdown",
   "id": "9bcfe212-5364-45d3-8c42-1d100b0c9855",
   "metadata": {},
   "source": [
    "### 5) Crocância em função da Densidade, Óleo e Fratura"
   ]
  },
  {
   "cell_type": "code",
   "execution_count": 15,
   "id": "976afaef-00cc-4c88-816e-f168632a5959",
   "metadata": {},
   "outputs": [
    {
     "name": "stdout",
     "output_type": "stream",
     "text": [
      "Coeficientes:\n",
      "Intercept    16.107879\n",
      "Óleo          0.230917\n",
      "Densidade    -0.001405\n",
      "Fratura      -0.234128\n",
      "dtype: float64\n",
      "\n",
      "Erro padrão dos coeficientes:\n",
      "Intercept    8.642463\n",
      "Óleo         0.180302\n",
      "Densidade    0.002256\n",
      "Fratura      0.043153\n",
      "dtype: float64\n",
      "\n",
      "R² (variância explicada) no conjunto de treino: 0.774409403012994\n",
      "O R² no conjunto de teste é: 0.6508302322594144\n"
     ]
    }
   ],
   "source": [
    "modelos(['Óleo','Densidade','Fratura'])"
   ]
  },
  {
   "cell_type": "markdown",
   "id": "857ec529-102d-4294-8781-52aa89eb5bf4",
   "metadata": {},
   "source": [
    "# Questão 2 "
   ]
  },
  {
   "cell_type": "markdown",
   "id": "a4c02e5c-4cbf-4eca-aa28-2b4efd1ac40b",
   "metadata": {},
   "source": [
    "### 2.a) Construa um modelo de regressão para a Umidade utilizando os dados experimentais fornecidos e indique os efeitos principais (A e B) e de interação (AB). Compare o significado desses efeitos com os obtidos para a variável Rendimento."
   ]
  },
  {
   "cell_type": "code",
   "execution_count": 16,
   "id": "ca871152-4518-4526-b068-faf56e43ff12",
   "metadata": {},
   "outputs": [
    {
     "name": "stdout",
     "output_type": "stream",
     "text": [
      "(7, 5)\n"
     ]
    },
    {
     "data": {
      "text/html": [
       "<div>\n",
       "<style scoped>\n",
       "    .dataframe tbody tr th:only-of-type {\n",
       "        vertical-align: middle;\n",
       "    }\n",
       "\n",
       "    .dataframe tbody tr th {\n",
       "        vertical-align: top;\n",
       "    }\n",
       "\n",
       "    .dataframe thead th {\n",
       "        text-align: right;\n",
       "    }\n",
       "</style>\n",
       "<table border=\"1\" class=\"dataframe\">\n",
       "  <thead>\n",
       "    <tr style=\"text-align: right;\">\n",
       "      <th></th>\n",
       "      <th>A</th>\n",
       "      <th>B</th>\n",
       "      <th>AB</th>\n",
       "      <th>Rendimento</th>\n",
       "      <th>Umidade</th>\n",
       "    </tr>\n",
       "  </thead>\n",
       "  <tbody>\n",
       "    <tr>\n",
       "      <th>0</th>\n",
       "      <td>-1</td>\n",
       "      <td>-1</td>\n",
       "      <td>1</td>\n",
       "      <td>88.01</td>\n",
       "      <td>1.50</td>\n",
       "    </tr>\n",
       "    <tr>\n",
       "      <th>1</th>\n",
       "      <td>-1</td>\n",
       "      <td>1</td>\n",
       "      <td>-1</td>\n",
       "      <td>94.95</td>\n",
       "      <td>2.46</td>\n",
       "    </tr>\n",
       "    <tr>\n",
       "      <th>2</th>\n",
       "      <td>1</td>\n",
       "      <td>-1</td>\n",
       "      <td>-1</td>\n",
       "      <td>85.54</td>\n",
       "      <td>3.06</td>\n",
       "    </tr>\n",
       "    <tr>\n",
       "      <th>3</th>\n",
       "      <td>1</td>\n",
       "      <td>1</td>\n",
       "      <td>1</td>\n",
       "      <td>98.31</td>\n",
       "      <td>2.04</td>\n",
       "    </tr>\n",
       "    <tr>\n",
       "      <th>4</th>\n",
       "      <td>0</td>\n",
       "      <td>0</td>\n",
       "      <td>0</td>\n",
       "      <td>93.20</td>\n",
       "      <td>3.00</td>\n",
       "    </tr>\n",
       "    <tr>\n",
       "      <th>5</th>\n",
       "      <td>0</td>\n",
       "      <td>0</td>\n",
       "      <td>0</td>\n",
       "      <td>95.00</td>\n",
       "      <td>2.63</td>\n",
       "    </tr>\n",
       "    <tr>\n",
       "      <th>6</th>\n",
       "      <td>0</td>\n",
       "      <td>0</td>\n",
       "      <td>0</td>\n",
       "      <td>94.40</td>\n",
       "      <td>2.74</td>\n",
       "    </tr>\n",
       "  </tbody>\n",
       "</table>\n",
       "</div>"
      ],
      "text/plain": [
       "   A  B  AB  Rendimento  Umidade\n",
       "0 -1 -1   1       88.01     1.50\n",
       "1 -1  1  -1       94.95     2.46\n",
       "2  1 -1  -1       85.54     3.06\n",
       "3  1  1   1       98.31     2.04\n",
       "4  0  0   0       93.20     3.00\n",
       "5  0  0   0       95.00     2.63\n",
       "6  0  0   0       94.40     2.74"
      ]
     },
     "execution_count": 16,
     "metadata": {},
     "output_type": "execute_result"
    }
   ],
   "source": [
    "sc=pd.read_csv('secagem_caju.csv',decimal=\",\")\n",
    "print(sc.shape)\n",
    "sc"
   ]
  },
  {
   "cell_type": "code",
   "execution_count": 17,
   "id": "2bb10a51-7729-4931-85c6-cb7067cdb601",
   "metadata": {},
   "outputs": [
    {
     "name": "stdout",
     "output_type": "stream",
     "text": [
      "<class 'pandas.core.frame.DataFrame'>\n",
      "RangeIndex: 7 entries, 0 to 6\n",
      "Data columns (total 5 columns):\n",
      " #   Column      Non-Null Count  Dtype  \n",
      "---  ------      --------------  -----  \n",
      " 0   A           7 non-null      int64  \n",
      " 1   B           7 non-null      int64  \n",
      " 2   AB          7 non-null      int64  \n",
      " 3   Rendimento  7 non-null      float64\n",
      " 4   Umidade     7 non-null      float64\n",
      "dtypes: float64(2), int64(3)\n",
      "memory usage: 412.0 bytes\n"
     ]
    }
   ],
   "source": [
    "sc.info()"
   ]
  },
  {
   "cell_type": "markdown",
   "id": "dc6b8f40-897c-4139-88e7-a4cd5fff2a42",
   "metadata": {},
   "source": [
    "### Modelo"
   ]
  },
  {
   "cell_type": "code",
   "execution_count": 19,
   "id": "d7789659-c5c2-4b3e-b96e-8617ac90fd54",
   "metadata": {},
   "outputs": [
    {
     "name": "stdout",
     "output_type": "stream",
     "text": [
      "                            OLS Regression Results                            \n",
      "==============================================================================\n",
      "Dep. Variable:                Umidade   R-squared:                       0.706\n",
      "Model:                            OLS   Adj. R-squared:                  0.411\n",
      "Method:                 Least Squares   F-statistic:                     2.397\n",
      "Date:                Mon, 15 Apr 2024   Prob (F-statistic):              0.246\n",
      "Time:                        15:25:42   Log-Likelihood:               -0.99556\n",
      "No. Observations:                   7   AIC:                             9.991\n",
      "Df Residuals:                       3   BIC:                             9.775\n",
      "Df Model:                           3                                         \n",
      "Covariance Type:            nonrobust                                         \n",
      "==============================================================================\n",
      "                 coef    std err          t      P>|t|      [0.025      0.975]\n",
      "------------------------------------------------------------------------------\n",
      "Intercept      2.4900      0.161     15.461      0.001       1.977       3.003\n",
      "A              0.2850      0.213      1.338      0.273      -0.393       0.963\n",
      "B             -0.0150      0.213     -0.070      0.948      -0.693       0.663\n",
      "AB            -0.4950      0.213     -2.323      0.103      -1.173       0.183\n",
      "==============================================================================\n",
      "Omnibus:                          nan   Durbin-Watson:                   1.265\n",
      "Prob(Omnibus):                    nan   Jarque-Bera (JB):                0.890\n",
      "Skew:                           0.694   Prob(JB):                        0.641\n",
      "Kurtosis:                       1.939   Cond. No.                         1.32\n",
      "==============================================================================\n",
      "\n",
      "Notes:\n",
      "[1] Standard Errors assume that the covariance matrix of the errors is correctly specified.\n"
     ]
    }
   ],
   "source": [
    "modelo_umidade=smf.ols(formula='Umidade ~ A + B + AB',data=sc).fit()\n",
    "print(modelo_umidade.summary())"
   ]
  },
  {
   "cell_type": "code",
   "execution_count": 20,
   "id": "08d4e707-6d53-491f-863d-b90b4f7d5298",
   "metadata": {},
   "outputs": [
    {
     "name": "stdout",
     "output_type": "stream",
     "text": [
      "                            OLS Regression Results                            \n",
      "==============================================================================\n",
      "Dep. Variable:             Rendimento   R-squared:                       0.895\n",
      "Model:                            OLS   Adj. R-squared:                  0.791\n",
      "Method:                 Least Squares   F-statistic:                     8.552\n",
      "Date:                Mon, 15 Apr 2024   Prob (F-statistic):             0.0557\n",
      "Time:                        15:25:48   Log-Likelihood:                -11.926\n",
      "No. Observations:                   7   AIC:                             31.85\n",
      "Df Residuals:                       3   BIC:                             31.64\n",
      "Df Model:                           3                                         \n",
      "Covariance Type:            nonrobust                                         \n",
      "==============================================================================\n",
      "                 coef    std err          t      P>|t|      [0.025      0.975]\n",
      "------------------------------------------------------------------------------\n",
      "Intercept     92.7729      0.768    120.864      0.000      90.330      95.216\n",
      "A              0.2225      1.015      0.219      0.841      -3.009       3.454\n",
      "B              4.9275      1.015      4.853      0.017       1.696       8.159\n",
      "AB             1.4575      1.015      1.435      0.247      -1.774       4.689\n",
      "==============================================================================\n",
      "Omnibus:                          nan   Durbin-Watson:                   0.472\n",
      "Prob(Omnibus):                    nan   Jarque-Bera (JB):                0.981\n",
      "Skew:                           0.640   Prob(JB):                        0.612\n",
      "Kurtosis:                       1.687   Cond. No.                         1.32\n",
      "==============================================================================\n",
      "\n",
      "Notes:\n",
      "[1] Standard Errors assume that the covariance matrix of the errors is correctly specified.\n"
     ]
    }
   ],
   "source": [
    "modelo_rendimento=smf.ols(formula='Rendimento ~ A + B + AB',data=sc).fit()\n",
    "print(modelo_rendimento.summary())"
   ]
  },
  {
   "cell_type": "markdown",
   "id": "7c328ad6-559a-4aa3-ac09-0603f0b111c7",
   "metadata": {},
   "source": [
    "### Fazendo uma analise comparando os dois modelos, podemos ver que R-squared para Umidade tem um valor maior em comparação com o R - Squared do Rendimento."
   ]
  },
  {
   "cell_type": "markdown",
   "id": "f8ca5870-6270-4bf3-a2c9-8917682dfdd2",
   "metadata": {},
   "source": [
    "### 2.b) Avalie a significância do modelo e dos coeficientes, destacando as análises estatísticas do teste F do modelo, intervalo de confiança dos coeficientes dos efeitos e ANOVA dos coeficientes do modelo."
   ]
  },
  {
   "attachments": {
    "b56c7ab8-48e2-45e1-992e-67538a1cc93b.png": {
     "image/png": "[encoded data removed]"
    }
   },
   "cell_type": "markdown",
   "id": "b21a91a7-9e1d-4869-bc01-a5f240df58c6",
   "metadata": {},
   "source": [
    "![Sem título.png](attachment:b56c7ab8-48e2-45e1-992e-67538a1cc93b.png)"
   ]
  },
  {
   "cell_type": "markdown",
   "id": "2c4d94b7-31e5-499b-b151-6e59a25063ae",
   "metadata": {
    "jp-MarkdownHeadingCollapsed": true
   },
   "source": [
    " Para Avaliarmos a significância do modelo precisamos verificar valores como F-Statistic e Prob(F-statistic)\n",
    " \n",
    " O F-statistic é calculada como a razão entre a variação explicada pelo modelo (variação entre as médias dos grupos) e a variação não explicada (variação dentro dos grupos). Temos um valor de F-statistic de \"2.397\", o que sugere que o modelo não é extremamente poderoso na distinção da variabilidade da variável dependente.\n",
    "\n",
    "Para a Prob (F-statistic) ou p-valor com um valor de 0.246, isso significa que há uma chance de 24.6% de observar uma estatística F tão grande quanto ou maior do que a observada, caso a hipótese nula seja verdadeira (a hipótese nula afirma que o modelo não tem capacidade explicativa sobre a variável dependente). Tradicionalmente, um p-valor abaixo de 0.05 é considerado significativo, o que não é o caso aqui. Portanto, você não tem evidência suficiente para rejeitar a hipótese nula e pode concluir que o modelo como um todo não é estatisticamente significativo."
   ]
  },
  {
   "attachments": {
    "1bd5ee9c-7373-4933-b5ee-33f77ef694f3.png": {
     "image/png": "[encoded data removed]"
    }
   },
   "cell_type": "markdown",
   "id": "32374313-4004-4d9d-8afd-a3b756ce4dad",
   "metadata": {},
   "source": [
    "![Sem título.png](attachment:1bd5ee9c-7373-4933-b5ee-33f77ef694f3.png)"
   ]
  },
  {
   "cell_type": "markdown",
   "id": "ed4e9dcd-ebf1-4f72-83ff-00ec3f763bcf",
   "metadata": {},
   "source": [
    "Vamos avaliar a significancia dos coeficientes dos valores, iremos fazer essa analise se baseando pelo P > |T|, um valor de p menor que 0,05 indica que não existe que a variavel é estatisticamente significativa, um valor maior podemos afirmar que  não há evidências suficientes para afirmar que a variavel é significativa\n",
    "\n",
    "Como pode ser visto apenas a constante (Interpect) é significativo para este modelo.\n",
    "\n",
    "Intercepto: O intervalo de confiança vai de 1.977 a 3.003, o que não inclui zero, reforçando que é significativo\n",
    "\r\n",
    "A: O intervalo de -0.393 a 0.963 inclui zero, o que está alinhado com o valor-p não significativ\n",
    ".\r\n",
    "B: O intervalo de -0.693 a 0.663 também inclui zero, confirmando a não significânc\n",
    "\n",
    ".\r\n",
    "AB: O intervalo de -1.173 a 0.183 inclui zero, mas está mais próximo de excluir zero do que os intervalos de A  B."
   ]
  },
  {
   "cell_type": "code",
   "execution_count": 22,
   "id": "776df8b9-f197-49c9-8773-dcce2c64c585",
   "metadata": {},
   "outputs": [
    {
     "name": "stdout",
     "output_type": "stream",
     "text": [
      "ANOVA dos coeficientes do modelo:\n"
     ]
    },
    {
     "data": {
      "text/html": [
       "<div>\n",
       "<style scoped>\n",
       "    .dataframe tbody tr th:only-of-type {\n",
       "        vertical-align: middle;\n",
       "    }\n",
       "\n",
       "    .dataframe tbody tr th {\n",
       "        vertical-align: top;\n",
       "    }\n",
       "\n",
       "    .dataframe thead th {\n",
       "        text-align: right;\n",
       "    }\n",
       "</style>\n",
       "<table border=\"1\" class=\"dataframe\">\n",
       "  <thead>\n",
       "    <tr style=\"text-align: right;\">\n",
       "      <th></th>\n",
       "      <th>sum_sq</th>\n",
       "      <th>df</th>\n",
       "      <th>F</th>\n",
       "      <th>PR(&gt;F)</th>\n",
       "    </tr>\n",
       "  </thead>\n",
       "  <tbody>\n",
       "    <tr>\n",
       "      <th>A</th>\n",
       "      <td>0.3249</td>\n",
       "      <td>1.0</td>\n",
       "      <td>1.789425</td>\n",
       "      <td>0.273364</td>\n",
       "    </tr>\n",
       "    <tr>\n",
       "      <th>B</th>\n",
       "      <td>0.0009</td>\n",
       "      <td>1.0</td>\n",
       "      <td>0.004957</td>\n",
       "      <td>0.948302</td>\n",
       "    </tr>\n",
       "    <tr>\n",
       "      <th>AB</th>\n",
       "      <td>0.9801</td>\n",
       "      <td>1.0</td>\n",
       "      <td>5.398017</td>\n",
       "      <td>0.102768</td>\n",
       "    </tr>\n",
       "    <tr>\n",
       "      <th>Residual</th>\n",
       "      <td>0.5447</td>\n",
       "      <td>3.0</td>\n",
       "      <td>NaN</td>\n",
       "      <td>NaN</td>\n",
       "    </tr>\n",
       "  </tbody>\n",
       "</table>\n",
       "</div>"
      ],
      "text/plain": [
       "          sum_sq   df         F    PR(>F)\n",
       "A         0.3249  1.0  1.789425  0.273364\n",
       "B         0.0009  1.0  0.004957  0.948302\n",
       "AB        0.9801  1.0  5.398017  0.102768\n",
       "Residual  0.5447  3.0       NaN       NaN"
      ]
     },
     "execution_count": 22,
     "metadata": {},
     "output_type": "execute_result"
    }
   ],
   "source": [
    "print(\"ANOVA dos coeficientes do modelo:\")\n",
    "sm.stats.anova_lm(modelo_umidade, typ=2)"
   ]
  },
  {
   "cell_type": "markdown",
   "id": "b1704587-0955-4f65-8541-3f32cccedba5",
   "metadata": {},
   "source": [
    "A: Não é estatisticamente significativo no modelo (p-valor = 0.273364), o que significa que as mudanças em A não estão relacionadas a mudanças significativas na variável dependente.\n",
    "\n",
    "B: Também não é significativo (p-valor = 0.948302), indicando que B não tem uma relação significativa com a variável dependente.\n",
    "\n",
    "AB (Interação): Não é significativo (p-valor = 0.102768), o que sugere que não há uma interação significativa entre A e B no que diz respeito à variável dependente."
   ]
  },
  {
   "cell_type": "code",
   "execution_count": null,
   "id": "88c79b62-7773-4121-b0ef-74204edc1a71",
   "metadata": {},
   "outputs": [],
   "source": []
  }
 ],
 "metadata": {
  "kernelspec": {
   "display_name": "Python 3 (ipykernel)",
   "language": "python",
   "name": "python3"
  },
  "language_info": {
   "codemirror_mode": {
    "name": "ipython",
    "version": 3
   },
   "file_extension": ".py",
   "mimetype": "text/x-python",
   "name": "python",
   "nbconvert_exporter": "python",
   "pygments_lexer": "ipython3",
   "version": "3.11.7"
  }
 },
 "nbformat": 4,
 "nbformat_minor": 5
}
